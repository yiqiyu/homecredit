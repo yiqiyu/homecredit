{
 "cells": [
  {
   "cell_type": "code",
   "execution_count": 3,
   "metadata": {},
   "outputs": [],
   "source": [
    "import numpy as np\n",
    "import gc\n",
    "import copy\n",
    "import pandas as pd\n",
    "from sklearn.ensemble import RandomForestClassifier, ExtraTreesClassifier\n",
    "\n",
    "\n",
    "from feat_loading import *"
   ]
  },
  {
   "cell_type": "code",
   "execution_count": 4,
   "metadata": {},
   "outputs": [
    {
     "name": "stdout",
     "output_type": "stream",
     "text": [
      "BURO_CREDIT_SUM_LIMIT_DEBT_RATIO_VAR\n",
      "ACTIVE_CREDIT_SUM_LIMIT_DEBT_RATIO_VAR\n",
      "ACTIVE_MAX_OVERDUE_RATIO_VAR\n",
      "CLOSED_CREDIT_SUM_LIMIT_DEBT_RATIO_MIN\n",
      "CLOSED_CREDIT_SUM_LIMIT_DEBT_RATIO_MAX\n",
      "CLOSED_CREDIT_SUM_LIMIT_DEBT_RATIO_MEAN\n",
      "CLOSED_CREDIT_SUM_LIMIT_DEBT_RATIO_VAR\n",
      "CLOSED_CREDIT_SUM_LIMIT_OVERDUE_RATIO_MIN\n",
      "CLOSED_CREDIT_SUM_LIMIT_OVERDUE_RATIO_MAX\n",
      "CLOSED_CREDIT_SUM_LIMIT_OVERDUE_RATIO_MEAN\n",
      "CLOSED_CREDIT_SUM_LIMIT_OVERDUE_RATIO_VAR\n",
      "PREV_INTREST_RATE_RATIO_MAX\n",
      "PREV_INTREST_RATE_RATIO_MEAN\n",
      "PREV_INTREST_RATE_RATIO_VAR\n",
      "APPROVED_INTREST_RATE_RATIO_MAX\n",
      "APPROVED_INTREST_RATE_RATIO_MEAN\n",
      "APPROVED_INTREST_RATE_RATIO_VAR\n",
      "REFUSED_APP_DURATION_MAX\n",
      "REFUSED_APP_DURATION_MEAN\n",
      "REFUSED_APP_PAY_DURATION_MAX\n",
      "REFUSED_APP_PAY_DURATION_MEAN\n",
      "REFUSED_INTREST_RATE_RATIO_MAX\n",
      "REFUSED_INTREST_RATE_RATIO_MEAN\n",
      "REFUSED_INTREST_RATE_RATIO_VAR\n",
      "24 columns need to be dropped\n"
     ]
    }
   ],
   "source": [
    "app_train = load_dataframe(\"train_all.csv\")\n",
    "app_test = load_dataframe(\"test_all.csv\")\n",
    "app_train, app_test = load_extra_feats_post(app_train, app_test)\n",
    "to_del = del_single_variance_and_nan_too_much(app_train)\n",
    "app_test = app_test.drop(to_del, axis=1)\n"
   ]
  },
  {
   "cell_type": "code",
   "execution_count": null,
   "metadata": {},
   "outputs": [],
   "source": [
    "for alg in [\"RF\", \"ET\", \"CB\", \"MLP\"]:\n",
    "    oof = load_dataframe(alg + \"_oof.csv\")\n",
    "    app_train = app_train.merge(right=oof.reset_index(), how='left', on='SK_ID_CURR')\n",
    "    del oof\n",
    "    gc.collect()\n",
    "    \n",
    "    t_oof = load_dataframe(alg + \"_test.csv\")\n",
    "    app_test = app_test.merge(right=t_oof.reset_index(), how='left', on='SK_ID_CURR')\n",
    "    del t_oof\n",
    "    gc.collect()"
   ]
  },
  {
   "cell_type": "code",
   "execution_count": null,
   "metadata": {},
   "outputs": [
    {
     "name": "stderr",
     "output_type": "stream",
     "text": [
      "c:\\program files\\python36\\lib\\site-packages\\lightgbm\\basic.py:1190: UserWarning: categorical_feature in Dataset is overridden.\n",
      "New categorical_feature is ['FLAG_OWN_CAR', 'FLAG_OWN_REALTY', 'NAME_CONTRACT_TYPE']\n",
      "  'New categorical_feature is {}'.format(sorted(list(categorical_feature))))\n"
     ]
    },
    {
     "name": "stdout",
     "output_type": "stream",
     "text": [
      "Training until validation scores don't improve for 300 rounds.\n",
      "[200]\ttrain's binary_logloss: 0.228581\ttrain's auc: 0.81328\tvalid's binary_logloss: 0.235493\tvalid's auc: 0.787138\n",
      "[400]\ttrain's binary_logloss: 0.220008\ttrain's auc: 0.835471\tvalid's binary_logloss: 0.23508\tvalid's auc: 0.788239\n",
      "[600]\ttrain's binary_logloss: 0.212209\ttrain's auc: 0.854873\tvalid's binary_logloss: 0.234945\tvalid's auc: 0.788675\n",
      "[800]\ttrain's binary_logloss: 0.205135\ttrain's auc: 0.87177\tvalid's binary_logloss: 0.234914\tvalid's auc: 0.788666\n",
      "Early stopping, best iteration is:\n",
      "[645]\ttrain's binary_logloss: 0.210562\ttrain's auc: 0.858917\tvalid's binary_logloss: 0.234879\tvalid's auc: 0.788838\n",
      "Training until validation scores don't improve for 300 rounds.\n",
      "[200]\ttrain's binary_logloss: 0.228168\ttrain's auc: 0.813255\tvalid's binary_logloss: 0.23693\tvalid's auc: 0.786727\n",
      "[400]\ttrain's binary_logloss: 0.219384\ttrain's auc: 0.836299\tvalid's binary_logloss: 0.236379\tvalid's auc: 0.788138\n",
      "[600]\ttrain's binary_logloss: 0.211628\ttrain's auc: 0.855457\tvalid's binary_logloss: 0.236389\tvalid's auc: 0.788137\n",
      "[800]\ttrain's binary_logloss: 0.204539\ttrain's auc: 0.872158\tvalid's binary_logloss: 0.236305\tvalid's auc: 0.788431\n",
      "[1000]\ttrain's binary_logloss: 0.197991\ttrain's auc: 0.886653\tvalid's binary_logloss: 0.236335\tvalid's auc: 0.788288\n",
      "Early stopping, best iteration is:\n",
      "[840]\ttrain's binary_logloss: 0.203201\ttrain's auc: 0.875087\tvalid's binary_logloss: 0.236273\tvalid's auc: 0.788563\n"
     ]
    }
   ],
   "source": [
    "import modelling\n",
    "importlib.reload(modelling)\n",
    "\n",
    "gc.collect()\n",
    "\n",
    "cat_feats = ['NAME_CONTRACT_TYPE', \n",
    "              'FLAG_OWN_CAR', \n",
    "             'FLAG_OWN_REALTY']\n",
    "submission, fi, metrics = modelling.model(app_train, app_test, cat_feats, parallel=5)\n",
    "print('Baseline metrics')\n",
    "print(metrics)\n",
    "submission.to_csv('stacked.csv', index = False)"
   ]
  },
  {
   "cell_type": "code",
   "execution_count": null,
   "metadata": {},
   "outputs": [],
   "source": [
    "importlib.reload(modelling)\n",
    "fi_sorted = modelling.plot_feature_importances(fi, 100)\n",
    "# display(fi_sorted[fi_sorted[\"feature\"]==\"ORG_XNA_no_Pensioner\"])\n",
    "print(fi_sorted[fi_sorted[\"importance\"]==0][\"feature\"].tolist())"
   ]
  },
  {
   "cell_type": "code",
   "execution_count": 12,
   "metadata": {},
   "outputs": [],
   "source": [
    "from sklearn.utils.validation import check_array\n"
   ]
  }
 ],
 "metadata": {
  "kernelspec": {
   "display_name": "Python 3",
   "language": "python",
   "name": "python3"
  },
  "language_info": {
   "codemirror_mode": {
    "name": "ipython",
    "version": 3
   },
   "file_extension": ".py",
   "mimetype": "text/x-python",
   "name": "python",
   "nbconvert_exporter": "python",
   "pygments_lexer": "ipython3",
   "version": "3.6.6"
  }
 },
 "nbformat": 4,
 "nbformat_minor": 2
}
